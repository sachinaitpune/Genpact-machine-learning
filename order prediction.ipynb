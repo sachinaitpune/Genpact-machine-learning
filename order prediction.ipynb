{
 "cells": [
  {
   "cell_type": "code",
   "execution_count": 1,
   "metadata": {},
   "outputs": [],
   "source": [
    "import numpy as np\n",
    "import pandas as pd \n",
    "import matplotlib.pyplot as plt\n"
   ]
  },
  {
   "cell_type": "code",
   "execution_count": 2,
   "metadata": {},
   "outputs": [],
   "source": [
    "train=pd.read_csv('train.csv')\n",
    "ff=pd.read_csv('fulfilment_center_info.csv')\n",
    "meal=pd.read_csv('meal_info.csv')\n",
    "test=pd.read_csv('test_QoiMO9B.csv')\n",
    "y=train['num_orders']\n",
    "train.drop('num_orders',1,inplace=True)"
   ]
  },
  {
   "cell_type": "code",
   "execution_count": 3,
   "metadata": {},
   "outputs": [],
   "source": [
    "result=pd.merge(train,meal,how='left')\n",
    "X=pd.merge(result,ff,how='left')\n",
    "\n"
   ]
  },
  {
   "cell_type": "code",
   "execution_count": 4,
   "metadata": {
    "scrolled": false
   },
   "outputs": [
    {
     "data": {
      "text/html": [
       "<div>\n",
       "<style scoped>\n",
       "    .dataframe tbody tr th:only-of-type {\n",
       "        vertical-align: middle;\n",
       "    }\n",
       "\n",
       "    .dataframe tbody tr th {\n",
       "        vertical-align: top;\n",
       "    }\n",
       "\n",
       "    .dataframe thead th {\n",
       "        text-align: right;\n",
       "    }\n",
       "</style>\n",
       "<table border=\"1\" class=\"dataframe\">\n",
       "  <thead>\n",
       "    <tr style=\"text-align: right;\">\n",
       "      <th></th>\n",
       "      <th>id</th>\n",
       "      <th>week</th>\n",
       "      <th>center_id</th>\n",
       "      <th>meal_id</th>\n",
       "      <th>checkout_price</th>\n",
       "      <th>base_price</th>\n",
       "      <th>emailer_for_promotion</th>\n",
       "      <th>homepage_featured</th>\n",
       "      <th>category</th>\n",
       "      <th>city_code</th>\n",
       "      <th>region_code</th>\n",
       "      <th>center_type</th>\n",
       "      <th>op_area</th>\n",
       "    </tr>\n",
       "    <tr>\n",
       "      <th>cuisine</th>\n",
       "      <th></th>\n",
       "      <th></th>\n",
       "      <th></th>\n",
       "      <th></th>\n",
       "      <th></th>\n",
       "      <th></th>\n",
       "      <th></th>\n",
       "      <th></th>\n",
       "      <th></th>\n",
       "      <th></th>\n",
       "      <th></th>\n",
       "      <th></th>\n",
       "      <th></th>\n",
       "    </tr>\n",
       "  </thead>\n",
       "  <tbody>\n",
       "    <tr>\n",
       "      <th>Continental</th>\n",
       "      <td>102795</td>\n",
       "      <td>102795</td>\n",
       "      <td>102795</td>\n",
       "      <td>102795</td>\n",
       "      <td>102795</td>\n",
       "      <td>102795</td>\n",
       "      <td>102795</td>\n",
       "      <td>102795</td>\n",
       "      <td>102795</td>\n",
       "      <td>102795</td>\n",
       "      <td>102795</td>\n",
       "      <td>102795</td>\n",
       "      <td>102795</td>\n",
       "    </tr>\n",
       "    <tr>\n",
       "      <th>Indian</th>\n",
       "      <td>112612</td>\n",
       "      <td>112612</td>\n",
       "      <td>112612</td>\n",
       "      <td>112612</td>\n",
       "      <td>112612</td>\n",
       "      <td>112612</td>\n",
       "      <td>112612</td>\n",
       "      <td>112612</td>\n",
       "      <td>112612</td>\n",
       "      <td>112612</td>\n",
       "      <td>112612</td>\n",
       "      <td>112612</td>\n",
       "      <td>112612</td>\n",
       "    </tr>\n",
       "    <tr>\n",
       "      <th>Italian</th>\n",
       "      <td>122925</td>\n",
       "      <td>122925</td>\n",
       "      <td>122925</td>\n",
       "      <td>122925</td>\n",
       "      <td>122925</td>\n",
       "      <td>122925</td>\n",
       "      <td>122925</td>\n",
       "      <td>122925</td>\n",
       "      <td>122925</td>\n",
       "      <td>122925</td>\n",
       "      <td>122925</td>\n",
       "      <td>122925</td>\n",
       "      <td>122925</td>\n",
       "    </tr>\n",
       "    <tr>\n",
       "      <th>Thai</th>\n",
       "      <td>118216</td>\n",
       "      <td>118216</td>\n",
       "      <td>118216</td>\n",
       "      <td>118216</td>\n",
       "      <td>118216</td>\n",
       "      <td>118216</td>\n",
       "      <td>118216</td>\n",
       "      <td>118216</td>\n",
       "      <td>118216</td>\n",
       "      <td>118216</td>\n",
       "      <td>118216</td>\n",
       "      <td>118216</td>\n",
       "      <td>118216</td>\n",
       "    </tr>\n",
       "  </tbody>\n",
       "</table>\n",
       "</div>"
      ],
      "text/plain": [
       "                 id    week  center_id  meal_id  checkout_price  base_price  \\\n",
       "cuisine                                                                       \n",
       "Continental  102795  102795     102795   102795          102795      102795   \n",
       "Indian       112612  112612     112612   112612          112612      112612   \n",
       "Italian      122925  122925     122925   122925          122925      122925   \n",
       "Thai         118216  118216     118216   118216          118216      118216   \n",
       "\n",
       "             emailer_for_promotion  homepage_featured  category  city_code  \\\n",
       "cuisine                                                                      \n",
       "Continental                 102795             102795    102795     102795   \n",
       "Indian                      112612             112612    112612     112612   \n",
       "Italian                     122925             122925    122925     122925   \n",
       "Thai                        118216             118216    118216     118216   \n",
       "\n",
       "             region_code  center_type  op_area  \n",
       "cuisine                                         \n",
       "Continental       102795       102795   102795  \n",
       "Indian            112612       112612   112612  \n",
       "Italian           122925       122925   122925  \n",
       "Thai              118216       118216   118216  "
      ]
     },
     "execution_count": 4,
     "metadata": {},
     "output_type": "execute_result"
    }
   ],
   "source": [
    "X.groupby('cuisine').count()"
   ]
  },
  {
   "cell_type": "code",
   "execution_count": 5,
   "metadata": {},
   "outputs": [
    {
     "data": {
      "text/html": [
       "<div>\n",
       "<style scoped>\n",
       "    .dataframe tbody tr th:only-of-type {\n",
       "        vertical-align: middle;\n",
       "    }\n",
       "\n",
       "    .dataframe tbody tr th {\n",
       "        vertical-align: top;\n",
       "    }\n",
       "\n",
       "    .dataframe thead th {\n",
       "        text-align: right;\n",
       "    }\n",
       "</style>\n",
       "<table border=\"1\" class=\"dataframe\">\n",
       "  <thead>\n",
       "    <tr style=\"text-align: right;\">\n",
       "      <th></th>\n",
       "      <th>id</th>\n",
       "      <th>week</th>\n",
       "      <th>center_id</th>\n",
       "      <th>meal_id</th>\n",
       "      <th>checkout_price</th>\n",
       "      <th>base_price</th>\n",
       "      <th>emailer_for_promotion</th>\n",
       "      <th>homepage_featured</th>\n",
       "      <th>category</th>\n",
       "      <th>city_code</th>\n",
       "      <th>region_code</th>\n",
       "      <th>center_type</th>\n",
       "      <th>op_area</th>\n",
       "    </tr>\n",
       "    <tr>\n",
       "      <th>cuisine</th>\n",
       "      <th></th>\n",
       "      <th></th>\n",
       "      <th></th>\n",
       "      <th></th>\n",
       "      <th></th>\n",
       "      <th></th>\n",
       "      <th></th>\n",
       "      <th></th>\n",
       "      <th></th>\n",
       "      <th></th>\n",
       "      <th></th>\n",
       "      <th></th>\n",
       "      <th></th>\n",
       "    </tr>\n",
       "  </thead>\n",
       "  <tbody>\n",
       "    <tr>\n",
       "      <th>Continental</th>\n",
       "      <td>102795</td>\n",
       "      <td>102795</td>\n",
       "      <td>102795</td>\n",
       "      <td>102795</td>\n",
       "      <td>102795</td>\n",
       "      <td>102795</td>\n",
       "      <td>102795</td>\n",
       "      <td>102795</td>\n",
       "      <td>102795</td>\n",
       "      <td>102795</td>\n",
       "      <td>102795</td>\n",
       "      <td>102795</td>\n",
       "      <td>102795</td>\n",
       "    </tr>\n",
       "    <tr>\n",
       "      <th>Indian</th>\n",
       "      <td>112612</td>\n",
       "      <td>112612</td>\n",
       "      <td>112612</td>\n",
       "      <td>112612</td>\n",
       "      <td>112612</td>\n",
       "      <td>112612</td>\n",
       "      <td>112612</td>\n",
       "      <td>112612</td>\n",
       "      <td>112612</td>\n",
       "      <td>112612</td>\n",
       "      <td>112612</td>\n",
       "      <td>112612</td>\n",
       "      <td>112612</td>\n",
       "    </tr>\n",
       "    <tr>\n",
       "      <th>Italian</th>\n",
       "      <td>122925</td>\n",
       "      <td>122925</td>\n",
       "      <td>122925</td>\n",
       "      <td>122925</td>\n",
       "      <td>122925</td>\n",
       "      <td>122925</td>\n",
       "      <td>122925</td>\n",
       "      <td>122925</td>\n",
       "      <td>122925</td>\n",
       "      <td>122925</td>\n",
       "      <td>122925</td>\n",
       "      <td>122925</td>\n",
       "      <td>122925</td>\n",
       "    </tr>\n",
       "    <tr>\n",
       "      <th>Thai</th>\n",
       "      <td>118216</td>\n",
       "      <td>118216</td>\n",
       "      <td>118216</td>\n",
       "      <td>118216</td>\n",
       "      <td>118216</td>\n",
       "      <td>118216</td>\n",
       "      <td>118216</td>\n",
       "      <td>118216</td>\n",
       "      <td>118216</td>\n",
       "      <td>118216</td>\n",
       "      <td>118216</td>\n",
       "      <td>118216</td>\n",
       "      <td>118216</td>\n",
       "    </tr>\n",
       "  </tbody>\n",
       "</table>\n",
       "</div>"
      ],
      "text/plain": [
       "                 id    week  center_id  meal_id  checkout_price  base_price  \\\n",
       "cuisine                                                                       \n",
       "Continental  102795  102795     102795   102795          102795      102795   \n",
       "Indian       112612  112612     112612   112612          112612      112612   \n",
       "Italian      122925  122925     122925   122925          122925      122925   \n",
       "Thai         118216  118216     118216   118216          118216      118216   \n",
       "\n",
       "             emailer_for_promotion  homepage_featured  category  city_code  \\\n",
       "cuisine                                                                      \n",
       "Continental                 102795             102795    102795     102795   \n",
       "Indian                      112612             112612    112612     112612   \n",
       "Italian                     122925             122925    122925     122925   \n",
       "Thai                        118216             118216    118216     118216   \n",
       "\n",
       "             region_code  center_type  op_area  \n",
       "cuisine                                         \n",
       "Continental       102795       102795   102795  \n",
       "Indian            112612       112612   112612  \n",
       "Italian           122925       122925   122925  \n",
       "Thai              118216       118216   118216  "
      ]
     },
     "execution_count": 5,
     "metadata": {},
     "output_type": "execute_result"
    }
   ],
   "source": [
    "\n",
    "\n",
    "X.groupby('cuisine').count()"
   ]
  },
  {
   "cell_type": "code",
   "execution_count": 6,
   "metadata": {},
   "outputs": [],
   "source": [
    "X['category']=X['category'].map({'Beverages':1,'Biryani':2,'Desert':3,'Extras':4,'Fish':5,'Other Snacks':6,'Pasta':7,'Pizza':8,'Rice Bowl':9,'Salad':10,'Sandwich':11,'Seafood':12,'Soup':13,'Starters':14}).astype(int)"
   ]
  },
  {
   "cell_type": "code",
   "execution_count": 9,
   "metadata": {},
   "outputs": [],
   "source": [
    "X['cuisine']=X['cuisine'].map({'Continental':1,'Indian':2,'Italian':3,'Thai':4}).astype(int)"
   ]
  },
  {
   "cell_type": "code",
   "execution_count": 8,
   "metadata": {},
   "outputs": [
    {
     "data": {
      "text/html": [
       "<div>\n",
       "<style scoped>\n",
       "    .dataframe tbody tr th:only-of-type {\n",
       "        vertical-align: middle;\n",
       "    }\n",
       "\n",
       "    .dataframe tbody tr th {\n",
       "        vertical-align: top;\n",
       "    }\n",
       "\n",
       "    .dataframe thead th {\n",
       "        text-align: right;\n",
       "    }\n",
       "</style>\n",
       "<table border=\"1\" class=\"dataframe\">\n",
       "  <thead>\n",
       "    <tr style=\"text-align: right;\">\n",
       "      <th></th>\n",
       "      <th>id</th>\n",
       "      <th>week</th>\n",
       "      <th>center_id</th>\n",
       "      <th>meal_id</th>\n",
       "      <th>checkout_price</th>\n",
       "      <th>base_price</th>\n",
       "      <th>emailer_for_promotion</th>\n",
       "      <th>homepage_featured</th>\n",
       "      <th>category</th>\n",
       "      <th>cuisine</th>\n",
       "      <th>city_code</th>\n",
       "      <th>region_code</th>\n",
       "      <th>op_area</th>\n",
       "    </tr>\n",
       "    <tr>\n",
       "      <th>center_type</th>\n",
       "      <th></th>\n",
       "      <th></th>\n",
       "      <th></th>\n",
       "      <th></th>\n",
       "      <th></th>\n",
       "      <th></th>\n",
       "      <th></th>\n",
       "      <th></th>\n",
       "      <th></th>\n",
       "      <th></th>\n",
       "      <th></th>\n",
       "      <th></th>\n",
       "      <th></th>\n",
       "    </tr>\n",
       "  </thead>\n",
       "  <tbody>\n",
       "    <tr>\n",
       "      <th>1</th>\n",
       "      <td>262881</td>\n",
       "      <td>262881</td>\n",
       "      <td>262881</td>\n",
       "      <td>262881</td>\n",
       "      <td>262881</td>\n",
       "      <td>262881</td>\n",
       "      <td>262881</td>\n",
       "      <td>262881</td>\n",
       "      <td>262881</td>\n",
       "      <td>262881</td>\n",
       "      <td>262881</td>\n",
       "      <td>262881</td>\n",
       "      <td>262881</td>\n",
       "    </tr>\n",
       "    <tr>\n",
       "      <th>2</th>\n",
       "      <td>94074</td>\n",
       "      <td>94074</td>\n",
       "      <td>94074</td>\n",
       "      <td>94074</td>\n",
       "      <td>94074</td>\n",
       "      <td>94074</td>\n",
       "      <td>94074</td>\n",
       "      <td>94074</td>\n",
       "      <td>94074</td>\n",
       "      <td>94074</td>\n",
       "      <td>94074</td>\n",
       "      <td>94074</td>\n",
       "      <td>94074</td>\n",
       "    </tr>\n",
       "    <tr>\n",
       "      <th>3</th>\n",
       "      <td>99593</td>\n",
       "      <td>99593</td>\n",
       "      <td>99593</td>\n",
       "      <td>99593</td>\n",
       "      <td>99593</td>\n",
       "      <td>99593</td>\n",
       "      <td>99593</td>\n",
       "      <td>99593</td>\n",
       "      <td>99593</td>\n",
       "      <td>99593</td>\n",
       "      <td>99593</td>\n",
       "      <td>99593</td>\n",
       "      <td>99593</td>\n",
       "    </tr>\n",
       "  </tbody>\n",
       "</table>\n",
       "</div>"
      ],
      "text/plain": [
       "                 id    week  center_id  meal_id  checkout_price  base_price  \\\n",
       "center_type                                                                   \n",
       "1            262881  262881     262881   262881          262881      262881   \n",
       "2             94074   94074      94074    94074           94074       94074   \n",
       "3             99593   99593      99593    99593           99593       99593   \n",
       "\n",
       "             emailer_for_promotion  homepage_featured  category  cuisine  \\\n",
       "center_type                                                                \n",
       "1                           262881             262881    262881   262881   \n",
       "2                            94074              94074     94074    94074   \n",
       "3                            99593              99593     99593    99593   \n",
       "\n",
       "             city_code  region_code  op_area  \n",
       "center_type                                   \n",
       "1               262881       262881   262881  \n",
       "2                94074        94074    94074  \n",
       "3                99593        99593    99593  "
      ]
     },
     "execution_count": 8,
     "metadata": {},
     "output_type": "execute_result"
    }
   ],
   "source": [
    "X.groupby(['center_type']).count()"
   ]
  },
  {
   "cell_type": "code",
   "execution_count": 7,
   "metadata": {},
   "outputs": [],
   "source": [
    "X['center_type']=X['center_type'].map({'TYPE_A':1,'TYPE_B':2,'TYPE_C':3}).astype(int)"
   ]
  },
  {
   "cell_type": "markdown",
   "metadata": {},
   "source": [
    "# feature selection"
   ]
  },
  {
   "cell_type": "code",
   "execution_count": 10,
   "metadata": {},
   "outputs": [
    {
     "data": {
      "text/html": [
       "<div>\n",
       "<style scoped>\n",
       "    .dataframe tbody tr th:only-of-type {\n",
       "        vertical-align: middle;\n",
       "    }\n",
       "\n",
       "    .dataframe tbody tr th {\n",
       "        vertical-align: top;\n",
       "    }\n",
       "\n",
       "    .dataframe thead th {\n",
       "        text-align: right;\n",
       "    }\n",
       "</style>\n",
       "<table border=\"1\" class=\"dataframe\">\n",
       "  <thead>\n",
       "    <tr style=\"text-align: right;\">\n",
       "      <th></th>\n",
       "      <th>id</th>\n",
       "      <th>week</th>\n",
       "      <th>center_id</th>\n",
       "      <th>meal_id</th>\n",
       "      <th>checkout_price</th>\n",
       "      <th>base_price</th>\n",
       "      <th>emailer_for_promotion</th>\n",
       "      <th>homepage_featured</th>\n",
       "      <th>category</th>\n",
       "      <th>cuisine</th>\n",
       "      <th>city_code</th>\n",
       "      <th>region_code</th>\n",
       "      <th>center_type</th>\n",
       "      <th>op_area</th>\n",
       "    </tr>\n",
       "  </thead>\n",
       "  <tbody>\n",
       "    <tr>\n",
       "      <th>count</th>\n",
       "      <td>4.565480e+05</td>\n",
       "      <td>456548.000000</td>\n",
       "      <td>456548.000000</td>\n",
       "      <td>456548.000000</td>\n",
       "      <td>456548.000000</td>\n",
       "      <td>456548.000000</td>\n",
       "      <td>456548.000000</td>\n",
       "      <td>456548.00000</td>\n",
       "      <td>456548.000000</td>\n",
       "      <td>456548.000000</td>\n",
       "      <td>456548.000000</td>\n",
       "      <td>456548.000000</td>\n",
       "      <td>456548.000000</td>\n",
       "      <td>456548.000000</td>\n",
       "    </tr>\n",
       "    <tr>\n",
       "      <th>mean</th>\n",
       "      <td>1.250096e+06</td>\n",
       "      <td>74.768771</td>\n",
       "      <td>82.105796</td>\n",
       "      <td>2024.337458</td>\n",
       "      <td>332.238933</td>\n",
       "      <td>354.156627</td>\n",
       "      <td>0.081152</td>\n",
       "      <td>0.10920</td>\n",
       "      <td>6.257443</td>\n",
       "      <td>2.561961</td>\n",
       "      <td>601.553399</td>\n",
       "      <td>56.614566</td>\n",
       "      <td>1.642342</td>\n",
       "      <td>4.083590</td>\n",
       "    </tr>\n",
       "    <tr>\n",
       "      <th>std</th>\n",
       "      <td>1.443548e+05</td>\n",
       "      <td>41.524956</td>\n",
       "      <td>45.975046</td>\n",
       "      <td>547.420920</td>\n",
       "      <td>152.939723</td>\n",
       "      <td>160.715914</td>\n",
       "      <td>0.273069</td>\n",
       "      <td>0.31189</td>\n",
       "      <td>4.459965</td>\n",
       "      <td>1.101974</td>\n",
       "      <td>66.195914</td>\n",
       "      <td>17.641306</td>\n",
       "      <td>0.816105</td>\n",
       "      <td>1.091686</td>\n",
       "    </tr>\n",
       "    <tr>\n",
       "      <th>min</th>\n",
       "      <td>1.000000e+06</td>\n",
       "      <td>1.000000</td>\n",
       "      <td>10.000000</td>\n",
       "      <td>1062.000000</td>\n",
       "      <td>2.970000</td>\n",
       "      <td>55.350000</td>\n",
       "      <td>0.000000</td>\n",
       "      <td>0.00000</td>\n",
       "      <td>1.000000</td>\n",
       "      <td>1.000000</td>\n",
       "      <td>456.000000</td>\n",
       "      <td>23.000000</td>\n",
       "      <td>1.000000</td>\n",
       "      <td>0.900000</td>\n",
       "    </tr>\n",
       "    <tr>\n",
       "      <th>25%</th>\n",
       "      <td>1.124999e+06</td>\n",
       "      <td>39.000000</td>\n",
       "      <td>43.000000</td>\n",
       "      <td>1558.000000</td>\n",
       "      <td>228.950000</td>\n",
       "      <td>243.500000</td>\n",
       "      <td>0.000000</td>\n",
       "      <td>0.00000</td>\n",
       "      <td>1.000000</td>\n",
       "      <td>2.000000</td>\n",
       "      <td>553.000000</td>\n",
       "      <td>34.000000</td>\n",
       "      <td>1.000000</td>\n",
       "      <td>3.600000</td>\n",
       "    </tr>\n",
       "    <tr>\n",
       "      <th>50%</th>\n",
       "      <td>1.250184e+06</td>\n",
       "      <td>76.000000</td>\n",
       "      <td>76.000000</td>\n",
       "      <td>1993.000000</td>\n",
       "      <td>296.820000</td>\n",
       "      <td>310.460000</td>\n",
       "      <td>0.000000</td>\n",
       "      <td>0.00000</td>\n",
       "      <td>6.000000</td>\n",
       "      <td>3.000000</td>\n",
       "      <td>596.000000</td>\n",
       "      <td>56.000000</td>\n",
       "      <td>1.000000</td>\n",
       "      <td>4.000000</td>\n",
       "    </tr>\n",
       "    <tr>\n",
       "      <th>75%</th>\n",
       "      <td>1.375140e+06</td>\n",
       "      <td>111.000000</td>\n",
       "      <td>110.000000</td>\n",
       "      <td>2539.000000</td>\n",
       "      <td>445.230000</td>\n",
       "      <td>458.870000</td>\n",
       "      <td>0.000000</td>\n",
       "      <td>0.00000</td>\n",
       "      <td>10.000000</td>\n",
       "      <td>4.000000</td>\n",
       "      <td>651.000000</td>\n",
       "      <td>77.000000</td>\n",
       "      <td>2.000000</td>\n",
       "      <td>4.500000</td>\n",
       "    </tr>\n",
       "    <tr>\n",
       "      <th>max</th>\n",
       "      <td>1.499999e+06</td>\n",
       "      <td>145.000000</td>\n",
       "      <td>186.000000</td>\n",
       "      <td>2956.000000</td>\n",
       "      <td>866.270000</td>\n",
       "      <td>866.270000</td>\n",
       "      <td>1.000000</td>\n",
       "      <td>1.00000</td>\n",
       "      <td>14.000000</td>\n",
       "      <td>4.000000</td>\n",
       "      <td>713.000000</td>\n",
       "      <td>93.000000</td>\n",
       "      <td>3.000000</td>\n",
       "      <td>7.000000</td>\n",
       "    </tr>\n",
       "  </tbody>\n",
       "</table>\n",
       "</div>"
      ],
      "text/plain": [
       "                 id           week      center_id        meal_id  \\\n",
       "count  4.565480e+05  456548.000000  456548.000000  456548.000000   \n",
       "mean   1.250096e+06      74.768771      82.105796    2024.337458   \n",
       "std    1.443548e+05      41.524956      45.975046     547.420920   \n",
       "min    1.000000e+06       1.000000      10.000000    1062.000000   \n",
       "25%    1.124999e+06      39.000000      43.000000    1558.000000   \n",
       "50%    1.250184e+06      76.000000      76.000000    1993.000000   \n",
       "75%    1.375140e+06     111.000000     110.000000    2539.000000   \n",
       "max    1.499999e+06     145.000000     186.000000    2956.000000   \n",
       "\n",
       "       checkout_price     base_price  emailer_for_promotion  \\\n",
       "count   456548.000000  456548.000000          456548.000000   \n",
       "mean       332.238933     354.156627               0.081152   \n",
       "std        152.939723     160.715914               0.273069   \n",
       "min          2.970000      55.350000               0.000000   \n",
       "25%        228.950000     243.500000               0.000000   \n",
       "50%        296.820000     310.460000               0.000000   \n",
       "75%        445.230000     458.870000               0.000000   \n",
       "max        866.270000     866.270000               1.000000   \n",
       "\n",
       "       homepage_featured       category        cuisine      city_code  \\\n",
       "count       456548.00000  456548.000000  456548.000000  456548.000000   \n",
       "mean             0.10920       6.257443       2.561961     601.553399   \n",
       "std              0.31189       4.459965       1.101974      66.195914   \n",
       "min              0.00000       1.000000       1.000000     456.000000   \n",
       "25%              0.00000       1.000000       2.000000     553.000000   \n",
       "50%              0.00000       6.000000       3.000000     596.000000   \n",
       "75%              0.00000      10.000000       4.000000     651.000000   \n",
       "max              1.00000      14.000000       4.000000     713.000000   \n",
       "\n",
       "         region_code    center_type        op_area  \n",
       "count  456548.000000  456548.000000  456548.000000  \n",
       "mean       56.614566       1.642342       4.083590  \n",
       "std        17.641306       0.816105       1.091686  \n",
       "min        23.000000       1.000000       0.900000  \n",
       "25%        34.000000       1.000000       3.600000  \n",
       "50%        56.000000       1.000000       4.000000  \n",
       "75%        77.000000       2.000000       4.500000  \n",
       "max        93.000000       3.000000       7.000000  "
      ]
     },
     "execution_count": 10,
     "metadata": {},
     "output_type": "execute_result"
    }
   ],
   "source": [
    "X.describe()"
   ]
  },
  {
   "cell_type": "code",
   "execution_count": 11,
   "metadata": {},
   "outputs": [
    {
     "data": {
      "text/plain": [
       "Index(['id', 'week', 'center_id', 'meal_id', 'checkout_price', 'base_price',\n",
       "       'emailer_for_promotion', 'homepage_featured', 'category', 'cuisine',\n",
       "       'city_code', 'region_code', 'center_type', 'op_area'],\n",
       "      dtype='object')"
      ]
     },
     "execution_count": 11,
     "metadata": {},
     "output_type": "execute_result"
    }
   ],
   "source": [
    " X.columns"
   ]
  },
  {
   "cell_type": "code",
   "execution_count": 12,
   "metadata": {},
   "outputs": [],
   "source": [
    "#X_new=X[['week','meal_id','checkout_price', 'base_price',\n",
    " #        'category', 'cuisine',\n",
    "  #     'city_code', 'region_code', 'center_type', 'op_area']]"
   ]
  },
  {
   "cell_type": "code",
   "execution_count": 13,
   "metadata": {
    "scrolled": true
   },
   "outputs": [
    {
     "data": {
      "text/plain": [
       "id                       0\n",
       "week                     0\n",
       "center_id                0\n",
       "meal_id                  0\n",
       "checkout_price           0\n",
       "base_price               0\n",
       "emailer_for_promotion    0\n",
       "homepage_featured        0\n",
       "category                 0\n",
       "cuisine                  0\n",
       "city_code                0\n",
       "region_code              0\n",
       "center_type              0\n",
       "op_area                  0\n",
       "dtype: int64"
      ]
     },
     "execution_count": 13,
     "metadata": {},
     "output_type": "execute_result"
    }
   ],
   "source": [
    "X.isna().sum()"
   ]
  },
  {
   "cell_type": "code",
   "execution_count": 67,
   "metadata": {},
   "outputs": [],
   "source": [
    "from sklearn.preprocessing import PolynomialFeatures\n",
    "\n",
    "poly=PolynomialFeatures(degree=2,interaction_only=False,include_bias=False)\n",
    "ps=poly.fit_transform(X[['category','cuisine']])\n",
    "\n",
    "poly_df=pd.DataFrame(ps,columns=['category','cuisine','category^2','category^cuisine','cuisine^2'])\n",
    "\n",
    "X_new=pd.merge(X,poly_df,how='outer',left_index=True,right_index=True)\n",
    "X_new.drop(columns=['id','category_x','cuisine_x','center_type'],axis=1,inplace=True)\n",
    "\n"
   ]
  },
  {
   "cell_type": "code",
   "execution_count": 68,
   "metadata": {},
   "outputs": [
    {
     "data": {
      "text/plain": [
       "0.3117978347315421"
      ]
     },
     "execution_count": 68,
     "metadata": {},
     "output_type": "execute_result"
    }
   ],
   "source": [
    "\n",
    "\n",
    "\n",
    "from sklearn.linear_model import LinearRegression\n",
    "from sklearn.model_selection import train_test_split\n",
    "\n",
    "X_train,X_test,y_train,y_test=train_test_split(X_new,y,random_state=0)\n",
    "reg=LinearRegression()\n",
    "reg.fit(X_train,y_train)\n",
    "reg.score(X_test,y_test)\n",
    "\n",
    "#reg.score(X_train,y_train)"
   ]
  },
  {
   "cell_type": "code",
   "execution_count": 69,
   "metadata": {},
   "outputs": [
    {
     "data": {
      "text/plain": [
       "array([362.60975284, 379.34701521, 241.5134165 , ...,  74.23662985,\n",
       "        65.66734488,  82.33828683])"
      ]
     },
     "execution_count": 69,
     "metadata": {},
     "output_type": "execute_result"
    }
   ],
   "source": [
    "X_test\n",
    "reg.predict(X_test)"
   ]
  },
  {
   "cell_type": "code",
   "execution_count": 70,
   "metadata": {},
   "outputs": [],
   "source": [
    "r=pd.merge(test,meal,on='meal_id')\n",
    "t=pd.merge(r,ff,on='center_id')\n",
    "t.drop(['id'],axis=1)\n",
    "t['category']=t['category'].map({'Beverages':1,'Biryani':2,'Desert':3,'Extras':4,'Fish':5,'Other Snacks':6,'Pasta':7,'Pizza':8,'Rice Bowl':9,'Salad':10,'Sandwich':11,'Seafood':12,'Soup':13,'Starters':14}).astype(int)\n",
    "t['cuisine']=t['cuisine'].map({'Continental':1,'Indian':2,'Italian':3,'Thai':4}).astype(int)\n",
    "t['center_type']=t['center_type'].map({'TYPE_A':1,'TYPE_B':2,'TYPE_C':3}).astype(int)"
   ]
  },
  {
   "cell_type": "markdown",
   "metadata": {},
   "source": [
    "# extra tree regressor "
   ]
  },
  {
   "cell_type": "code",
   "execution_count": 84,
   "metadata": {},
   "outputs": [
    {
     "data": {
      "text/plain": [
       "0.8581162885963396"
      ]
     },
     "execution_count": 84,
     "metadata": {},
     "output_type": "execute_result"
    }
   ],
   "source": [
    "from sklearn.ensemble import ExtraTreesRegressor\n",
    "\n",
    "ext=ExtraTreesRegressor(n_estimators=50)\n",
    "ext.fit(X_train,y_train)\n",
    "ext.score(X_test,y_test)"
   ]
  },
  {
   "cell_type": "code",
   "execution_count": 85,
   "metadata": {},
   "outputs": [
    {
     "name": "stdout",
     "output_type": "stream",
     "text": [
      "[0.0741943  0.04795427 0.0643098  0.14667898 0.07454716 0.05143696\n",
      " 0.08650537 0.03732479 0.04444725 0.11188858 0.05906419 0.0428301\n",
      " 0.05991551 0.05557225 0.04333049]\n"
     ]
    }
   ],
   "source": [
    "print(ext.feature_importances_)"
   ]
  },
  {
   "cell_type": "code",
   "execution_count": 86,
   "metadata": {},
   "outputs": [
    {
     "data": {
      "text/plain": [
       "Index(['week', 'center_id', 'meal_id', 'checkout_price', 'base_price',\n",
       "       'emailer_for_promotion', 'homepage_featured', 'city_code',\n",
       "       'region_code', 'op_area', 'category_y', 'cuisine_y', 'category^2',\n",
       "       'category^cuisine', 'cuisine^2'],\n",
       "      dtype='object')"
      ]
     },
     "execution_count": 86,
     "metadata": {},
     "output_type": "execute_result"
    }
   ],
   "source": [
    "X_new.columns"
   ]
  },
  {
   "cell_type": "code",
   "execution_count": 91,
   "metadata": {},
   "outputs": [
    {
     "data": {
      "text/plain": [
       "0.6460177979535173"
      ]
     },
     "execution_count": 91,
     "metadata": {},
     "output_type": "execute_result"
    }
   ],
   "source": [
    "from xgboost import XGBRegressor\n",
    "\n",
    "my_model=XGBRegressor()\n",
    "my_model.fit(X_train,y_train,verbose=False)\n",
    "my_model.score(X_test,y_test)\n",
    "\n",
    "\n"
   ]
  },
  {
   "cell_type": "code",
   "execution_count": 92,
   "metadata": {},
   "outputs": [
    {
     "data": {
      "text/plain": [
       "0.7372929825247335"
      ]
     },
     "execution_count": 92,
     "metadata": {},
     "output_type": "execute_result"
    }
   ],
   "source": [
    "my_model=XGBRegressor(n_estimators=1000,learning_rate=0.05)\n",
    "my_model.fit(X_train,y_train,early_stopping_rounds=5,eval_set=[(X_test,y_test)],verbose=False)\n",
    "my_model.score(X_test,y_test)"
   ]
  },
  {
   "cell_type": "code",
   "execution_count": 93,
   "metadata": {},
   "outputs": [],
   "source": [
    "from sklearn.preprocessing import PolynomialFeatures\n",
    "\n",
    "ply=PolynomialFeatures(degree=2,interaction_only=False,include_bias=False)\n",
    "ply_scaled=ply.fit_transform(t[['category','cuisine']])\n",
    "\n",
    "ply_df=pd.DataFrame(ply_scaled,columns=['category','cuisine','category^2','category^cuisine','cuisine^2'])\n",
    "\n",
    "t_new=pd.merge(t,ply_df,how='outer',left_index=True,right_index=True)\n",
    "t_new.drop(columns=['id','category_x','cuisine_x','center_type'],axis=1,inplace=True)"
   ]
  },
  {
   "cell_type": "code",
   "execution_count": 97,
   "metadata": {},
   "outputs": [
    {
     "data": {
      "text/plain": [
       "array([414.25354 , 414.25354 , 414.25354 , ...,   8.288635,   8.288635,\n",
       "         8.288635], dtype=float32)"
      ]
     },
     "execution_count": 97,
     "metadata": {},
     "output_type": "execute_result"
    }
   ],
   "source": [
    "y_pred=ext.predict(t_new)\n",
    "y_pred\n",
    "#Ypred=my_model.predict(t_new)\n",
    "#Ypred"
   ]
  },
  {
   "cell_type": "code",
   "execution_count": 98,
   "metadata": {},
   "outputs": [],
   "source": [
    "submission=pd.DataFrame({'id': t['id'],'num_orders': y_pred})\n",
    "#sub=pd.DataFrame({'id': t['id'],'num_orders': Ypred})"
   ]
  },
  {
   "cell_type": "code",
   "execution_count": 99,
   "metadata": {},
   "outputs": [],
   "source": [
    "submission.to_csv('genpact.csv',index=False)\n",
    "#sub.to_csv('genpact1.csv',index=False)"
   ]
  },
  {
   "cell_type": "code",
   "execution_count": null,
   "metadata": {},
   "outputs": [],
   "source": []
  }
 ],
 "metadata": {
  "kernelspec": {
   "display_name": "Python 3",
   "language": "python",
   "name": "python3"
  },
  "language_info": {
   "codemirror_mode": {
    "name": "ipython",
    "version": 3
   },
   "file_extension": ".py",
   "mimetype": "text/x-python",
   "name": "python",
   "nbconvert_exporter": "python",
   "pygments_lexer": "ipython3",
   "version": "3.6.6"
  }
 },
 "nbformat": 4,
 "nbformat_minor": 2
}
